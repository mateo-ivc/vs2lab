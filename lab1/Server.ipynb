{
 "cells": [
  {
   "cell_type": "markdown",
   "metadata": {},
   "source": [
    "# Running server and client in separate notebooks - server part\n",
    "This is the first notebook we need to run in this constelation. Note that the client notebook needs to be run now in a separate window."
   ]
  },
  {
   "cell_type": "code",
   "execution_count": null,
   "metadata": {},
   "outputs": [
    {
     "name": "stderr",
     "output_type": "stream",
     "text": [
      "2024-10-31 14:55:33,280 - vs2lab.lab1.clientserver.Server - INFO - Server bound to socket <socket.socket fd=67, family=2, type=1, proto=0, laddr=('127.0.0.1', 50007)>\n",
      "2024-10-31 14:55:40,728 - vs2lab.lab1.clientserver.Server - INFO - b'get:Miro'\n",
      "2024-10-31 14:56:14,673 - vs2lab.lab1.clientserver.Server - INFO - b''\n",
      "2024-10-31 14:56:31,158 - vs2lab.lab1.clientserver.Server - INFO - b''\n",
      "2024-10-31 14:56:34,677 - vs2lab.lab1.clientserver.Server - INFO - b'get:Miro'\n",
      "2024-10-31 14:57:49,943 - vs2lab.lab1.clientserver.Server - INFO - b''\n",
      "2024-10-31 14:58:08,487 - vs2lab.lab1.clientserver.Server - INFO - b'get:Miro'\n",
      "2024-10-31 14:58:10,510 - vs2lab.lab1.clientserver.Server - INFO - b'getall'\n"
     ]
    }
   ],
   "source": [
    "import clientserver # import from our script\n",
    "\n",
    "server = clientserver.Server() # Create a server instance\n",
    "\n",
    "server.serve() # start server routine in the forked process"
   ]
  },
  {
   "cell_type": "markdown",
   "metadata": {},
   "source": [
    "Finished"
   ]
  },
  {
   "cell_type": "code",
   "execution_count": null,
   "metadata": {},
   "outputs": [],
   "source": []
  }
 ],
 "metadata": {
  "kernelspec": {
   "display_name": "vs2lab-UnEQwLJH",
   "language": "python",
   "name": "python3"
  },
  "language_info": {
   "codemirror_mode": {
    "name": "ipython",
    "version": 3
   },
   "file_extension": ".py",
   "mimetype": "text/x-python",
   "name": "python",
   "nbconvert_exporter": "python",
   "pygments_lexer": "ipython3",
   "version": "3.11.2"
  }
 },
 "nbformat": 4,
 "nbformat_minor": 4
}
